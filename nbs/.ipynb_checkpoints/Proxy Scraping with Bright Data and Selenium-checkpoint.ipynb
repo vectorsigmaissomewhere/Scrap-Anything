{
 "cells": [
  {
   "cell_type": "code",
   "execution_count": null,
   "id": "867f7c22-1ebc-4613-98e0-648b653d16c0",
   "metadata": {},
   "outputs": [],
   "source": [
    "url = \"https://www.amazon.com/PlayStation-Store-Gift-Card-Digital/dp/B0CXBLK3WW/ref=sr_1_2?crid=JJE3LDTKV7I7&dib=eyJ2IjoiMSJ9.sbmLpE8_YAziJzrQsAP4zzdyJ5WQJhL3ddiGHhFskB9Zt2o3E9MfidruBEjeZ8xIbOs8y-IvA8zDXCFd7KJmlPdzRRmW94MCQOknXH4E3NgXVpdr1TLPMOyt83R6scPEhH04IxFHH54xftV4aHpdGtjgZIF1yYoSJj0fMnSfOA-15rLSjHONbjVyZDud62TZS-F3WlP8nPDPZ1O785H3nCMZvRiFbkI9NLSiGfh5Geg.Hf-oWEAvayLh5vxUiwWmh7q6_7A7TpSHI2P1xPAXZAM&dib_tag=se&keywords=ps5&qid=1735308458&sprefix=ps%2Caps%2C351&sr=8-2&th=1\"\n",
    "\n",
    "#!/usr/bin/env python3\n",
    "from selenium.webdriver import Remote, ChromeOptions as Options\n",
    "from selenium.webdriver.chromium.remote_connection import ChromiumRemoteConnection as Connection\n",
    "\n",
    "# Replace 'USER:PASS' with the provided credentials\n",
    "AUTH = \"brd-customer-hl_38555767-zone-scraping_browser1:vp9d21s813bw\"\n",
    "TARGET_URL = 'https://www.amazon.com/PlayStation-Store-Gift-Card-Digital/dp/B0CXBLK3WW/'\n",
    "\n",
    "def scrape(url=TARGET_URL):\n",
    "    if AUTH == 'USER:PASS':\n",
    "        raise Exception('Provide valid credentials in AUTH.')\n",
    "    print('Connecting to Browser...')\n",
    "    server_addr = f'https://{AUTH}@brd.superproxy.io:9515'\n",
    "    connection = Connection(server_addr, 'goog', 'chrome')\n",
    "    driver = Remote(connection, options=Options())\n",
    "    try:\n",
    "        print(f'Connected! Navigating to {url}...')\n",
    "        driver.get(url)\n",
    "        print('Navigated! Scraping page content...')\n",
    "        data = driver.page_source\n",
    "        print(f'Scraped! Data: {data}')\n",
    "    finally:\n",
    "        driver.quit()\n",
    "\n",
    "if __name__ == '__main__':\n",
    "    scrape()\n"
   ]
  },
  {
   "cell_type": "code",
   "execution_count": 3,
   "id": "947aa8be-35b2-4a97-ad34-e777df1915f4",
   "metadata": {},
   "outputs": [
    {
     "ename": "NameError",
     "evalue": "name 'scrape' is not defined",
     "output_type": "error",
     "traceback": [
      "\u001b[1;31m---------------------------------------------------------------------------\u001b[0m",
      "\u001b[1;31mNameError\u001b[0m                                 Traceback (most recent call last)",
      "Cell \u001b[1;32mIn[3], line 1\u001b[0m\n\u001b[1;32m----> 1\u001b[0m scrape(url\u001b[38;5;241m=\u001b[39murl)\n",
      "\u001b[1;31mNameError\u001b[0m: name 'scrape' is not defined"
     ]
    }
   ],
   "source": [
    "scrape(url=url)"
   ]
  },
  {
   "cell_type": "code",
   "execution_count": null,
   "id": "a71c0357-db6c-4f74-9a29-07c95e15e03b",
   "metadata": {},
   "outputs": [],
   "source": []
  }
 ],
 "metadata": {
  "kernelspec": {
   "display_name": "Python 3 (ipykernel)",
   "language": "python",
   "name": "python3"
  },
  "language_info": {
   "codemirror_mode": {
    "name": "ipython",
    "version": 3
   },
   "file_extension": ".py",
   "mimetype": "text/x-python",
   "name": "python",
   "nbconvert_exporter": "python",
   "pygments_lexer": "ipython3",
   "version": "3.12.4"
  }
 },
 "nbformat": 4,
 "nbformat_minor": 5
}
